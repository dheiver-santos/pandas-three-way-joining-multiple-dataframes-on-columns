{
  "nbformat": 4,
  "nbformat_minor": 0,
  "metadata": {
    "colab": {
      "name": "pandas three-way joining multiple dataframes on columns.ipynb",
      "provenance": []
    },
    "kernelspec": {
      "name": "python3",
      "display_name": "Python 3"
    },
    "language_info": {
      "name": "python"
    }
  },
  "cells": [
    {
      "cell_type": "code",
      "metadata": {
        "colab": {
          "base_uri": "https://localhost:8080/",
          "height": 142
        },
        "id": "4-Xs5KLhQRhP",
        "outputId": "5f0a27d1-ee34-404e-f619-446a0d2a6329"
      },
      "source": [
        "import pandas as pd\n",
        "import numpy as np\n",
        "\n",
        "# Merge multiple dataframes\n",
        "df1 = pd.DataFrame(np.array([\n",
        "    ['a', 5, 9],\n",
        "    ['b', 4, 61],\n",
        "    ['c', 24, 9]]),\n",
        "    columns=['name', 'attr11', 'attr12'])\n",
        "df2 = pd.DataFrame(np.array([\n",
        "    ['a', 5, 19],\n",
        "    ['b', 14, 16],\n",
        "    ['c', 4, 9]]),\n",
        "    columns=['name', 'attr21', 'attr22'])\n",
        "df3 = pd.DataFrame(np.array([\n",
        "    ['a', 15, 49],\n",
        "    ['b', 4, 36],\n",
        "    ['c', 14, 9]]),\n",
        "    columns=['name', 'attr31', 'attr32'])\n",
        "\n",
        "pd.merge(pd.merge(df1,df2,on='name'),df3,on='name')"
      ],
      "execution_count": 4,
      "outputs": [
        {
          "output_type": "execute_result",
          "data": {
            "text/html": [
              "<div>\n",
              "<style scoped>\n",
              "    .dataframe tbody tr th:only-of-type {\n",
              "        vertical-align: middle;\n",
              "    }\n",
              "\n",
              "    .dataframe tbody tr th {\n",
              "        vertical-align: top;\n",
              "    }\n",
              "\n",
              "    .dataframe thead th {\n",
              "        text-align: right;\n",
              "    }\n",
              "</style>\n",
              "<table border=\"1\" class=\"dataframe\">\n",
              "  <thead>\n",
              "    <tr style=\"text-align: right;\">\n",
              "      <th></th>\n",
              "      <th>name</th>\n",
              "      <th>attr11</th>\n",
              "      <th>attr12</th>\n",
              "      <th>attr21</th>\n",
              "      <th>attr22</th>\n",
              "      <th>attr31</th>\n",
              "      <th>attr32</th>\n",
              "    </tr>\n",
              "  </thead>\n",
              "  <tbody>\n",
              "    <tr>\n",
              "      <th>0</th>\n",
              "      <td>a</td>\n",
              "      <td>5</td>\n",
              "      <td>9</td>\n",
              "      <td>5</td>\n",
              "      <td>19</td>\n",
              "      <td>15</td>\n",
              "      <td>49</td>\n",
              "    </tr>\n",
              "    <tr>\n",
              "      <th>1</th>\n",
              "      <td>b</td>\n",
              "      <td>4</td>\n",
              "      <td>61</td>\n",
              "      <td>14</td>\n",
              "      <td>16</td>\n",
              "      <td>4</td>\n",
              "      <td>36</td>\n",
              "    </tr>\n",
              "    <tr>\n",
              "      <th>2</th>\n",
              "      <td>c</td>\n",
              "      <td>24</td>\n",
              "      <td>9</td>\n",
              "      <td>4</td>\n",
              "      <td>9</td>\n",
              "      <td>14</td>\n",
              "      <td>9</td>\n",
              "    </tr>\n",
              "  </tbody>\n",
              "</table>\n",
              "</div>"
            ],
            "text/plain": [
              "  name attr11 attr12 attr21 attr22 attr31 attr32\n",
              "0    a      5      9      5     19     15     49\n",
              "1    b      4     61     14     16      4     36\n",
              "2    c     24      9      4      9     14      9"
            ]
          },
          "metadata": {
            "tags": []
          },
          "execution_count": 4
        }
      ]
    },
    {
      "cell_type": "code",
      "metadata": {
        "colab": {
          "base_uri": "https://localhost:8080/",
          "height": 142
        },
        "id": "8MeYkGHpRSXE",
        "outputId": "2cb2bc9d-32fd-4962-cac3-91c4154dbf0e"
      },
      "source": [
        "df1.merge(df2,on='name').merge(df3,on='name')\n"
      ],
      "execution_count": 5,
      "outputs": [
        {
          "output_type": "execute_result",
          "data": {
            "text/html": [
              "<div>\n",
              "<style scoped>\n",
              "    .dataframe tbody tr th:only-of-type {\n",
              "        vertical-align: middle;\n",
              "    }\n",
              "\n",
              "    .dataframe tbody tr th {\n",
              "        vertical-align: top;\n",
              "    }\n",
              "\n",
              "    .dataframe thead th {\n",
              "        text-align: right;\n",
              "    }\n",
              "</style>\n",
              "<table border=\"1\" class=\"dataframe\">\n",
              "  <thead>\n",
              "    <tr style=\"text-align: right;\">\n",
              "      <th></th>\n",
              "      <th>name</th>\n",
              "      <th>attr11</th>\n",
              "      <th>attr12</th>\n",
              "      <th>attr21</th>\n",
              "      <th>attr22</th>\n",
              "      <th>attr31</th>\n",
              "      <th>attr32</th>\n",
              "    </tr>\n",
              "  </thead>\n",
              "  <tbody>\n",
              "    <tr>\n",
              "      <th>0</th>\n",
              "      <td>a</td>\n",
              "      <td>5</td>\n",
              "      <td>9</td>\n",
              "      <td>5</td>\n",
              "      <td>19</td>\n",
              "      <td>15</td>\n",
              "      <td>49</td>\n",
              "    </tr>\n",
              "    <tr>\n",
              "      <th>1</th>\n",
              "      <td>b</td>\n",
              "      <td>4</td>\n",
              "      <td>61</td>\n",
              "      <td>14</td>\n",
              "      <td>16</td>\n",
              "      <td>4</td>\n",
              "      <td>36</td>\n",
              "    </tr>\n",
              "    <tr>\n",
              "      <th>2</th>\n",
              "      <td>c</td>\n",
              "      <td>24</td>\n",
              "      <td>9</td>\n",
              "      <td>4</td>\n",
              "      <td>9</td>\n",
              "      <td>14</td>\n",
              "      <td>9</td>\n",
              "    </tr>\n",
              "  </tbody>\n",
              "</table>\n",
              "</div>"
            ],
            "text/plain": [
              "  name attr11 attr12 attr21 attr22 attr31 attr32\n",
              "0    a      5      9      5     19     15     49\n",
              "1    b      4     61     14     16      4     36\n",
              "2    c     24      9      4      9     14      9"
            ]
          },
          "metadata": {
            "tags": []
          },
          "execution_count": 5
        }
      ]
    }
  ]
}